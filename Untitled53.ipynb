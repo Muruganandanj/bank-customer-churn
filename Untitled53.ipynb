{
 "cells": [
  {
   "cell_type": "code",
   "execution_count": 1,
   "id": "6df9b017-8f5d-4869-bbb8-f8ef050f8fca",
   "metadata": {},
   "outputs": [],
   "source": [
    "#importing libraries\n",
    "\n",
    "import pandas as pd\n",
    "import numpy as np\n",
    "from sklearn.preprocessing import OneHotEncoder,StandardScaler\n",
    "from sklearn.ensemble import RandomForestClassifier\n",
    "from sklearn.model_selection import train_test_split,cross_val_score\n",
    "from sklearn.metrics import accuracy_score,classification_report,confusion_matrix\n",
    "from sklearn.svm import SVC"
   ]
  },
  {
   "cell_type": "code",
   "execution_count": 2,
   "id": "fd94c3f9-7758-4371-99d0-aa6550a950b2",
   "metadata": {},
   "outputs": [
    {
     "name": "stdout",
     "output_type": "stream",
     "text": [
      "<class 'pandas.core.frame.DataFrame'>\n",
      "RangeIndex: 9297 entries, 0 to 9296\n",
      "Data columns (total 12 columns):\n",
      " #   Column            Non-Null Count  Dtype  \n",
      "---  ------            --------------  -----  \n",
      " 0   customer_id       9297 non-null   int64  \n",
      " 1   credit_score      9297 non-null   int64  \n",
      " 2   country           9297 non-null   object \n",
      " 3   gender            9297 non-null   object \n",
      " 4   age               9297 non-null   int64  \n",
      " 5   tenure            9297 non-null   int64  \n",
      " 6   balance           9297 non-null   float64\n",
      " 7   products_number   9297 non-null   int64  \n",
      " 8   credit_card       9297 non-null   int64  \n",
      " 9   active_member     9297 non-null   int64  \n",
      " 10  estimated_salary  9297 non-null   float64\n",
      " 11  churn             9297 non-null   int64  \n",
      "dtypes: float64(2), int64(8), object(2)\n",
      "memory usage: 871.7+ KB\n"
     ]
    }
   ],
   "source": [
    "#Loading the data\n",
    "data = pd.read_csv(r\"C:\\Users\\Muruganandan\\OneDrive\\Desktop\\MY PROJECTS\\MACHINE LEARNING\\BANK CUSTOMER CHURN CLASSIFICATION\\Bank Customer Churn Prediction.csv\")\n",
    "df=pd.DataFrame(data)\n",
    "df.info()"
   ]
  },
  {
   "cell_type": "code",
   "execution_count": 3,
   "id": "9f307588-9fc6-403f-a11b-7bb242a26766",
   "metadata": {},
   "outputs": [
    {
     "name": "stdout",
     "output_type": "stream",
     "text": [
      "<class 'pandas.core.frame.DataFrame'>\n",
      "RangeIndex: 9297 entries, 0 to 9296\n",
      "Data columns (total 8 columns):\n",
      " #   Column            Non-Null Count  Dtype  \n",
      "---  ------            --------------  -----  \n",
      " 0   credit_score      9297 non-null   int64  \n",
      " 1   tenure            9297 non-null   int64  \n",
      " 2   balance           9297 non-null   float64\n",
      " 3   products_number   9297 non-null   int64  \n",
      " 4   credit_card       9297 non-null   int64  \n",
      " 5   active_member     9297 non-null   int64  \n",
      " 6   estimated_salary  9297 non-null   float64\n",
      " 7   churn             9297 non-null   int64  \n",
      "dtypes: float64(2), int64(6)\n",
      "memory usage: 581.2 KB\n"
     ]
    }
   ],
   "source": [
    "# cleaning the data\n",
    "df=df.drop('customer_id',axis=1)\n",
    "df=df.drop('country',axis=1)\n",
    "df=df.drop('gender',axis=1)\n",
    "df=df.drop('age',axis=1)\n",
    "df.info()"
   ]
  },
  {
   "cell_type": "code",
   "execution_count": 4,
   "id": "cab955b2-1573-45c9-82cf-dd7c60146083",
   "metadata": {},
   "outputs": [
    {
     "name": "stdout",
     "output_type": "stream",
     "text": [
      "[0.81586022 0.81989247 0.8137189  0.81909886 0.81708137]\n",
      "Accuracy score is  0.8220430107526882\n",
      "Classification report is               precision    recall  f1-score   support\n",
      "\n",
      "           0       0.82      0.99      0.90      1498\n",
      "           1       0.77      0.12      0.21       362\n",
      "\n",
      "    accuracy                           0.82      1860\n",
      "   macro avg       0.80      0.56      0.55      1860\n",
      "weighted avg       0.81      0.82      0.77      1860\n",
      "\n",
      "confusion matrix is  [[1485   13]\n",
      " [ 318   44]]\n"
     ]
    }
   ],
   "source": [
    "#SEPERATING FEATURES AND TARGETS\n",
    "\n",
    "x = df.drop('churn',axis=1)\n",
    "y= df['churn']\n",
    "\n",
    "# SPLITTING TRAINING AND TESTING DATA\n",
    "\n",
    "x_train,x_test,y_train,y_test=train_test_split(x,y,test_size=0.2,random_state=42)\n",
    "\n",
    "# scaling the features\n",
    "\n",
    "scaler = StandardScaler()\n",
    "x_train = scaler.fit_transform(x_train)\n",
    "x_test = scaler.transform(x_test)\n",
    "\n",
    "\n",
    "#Building the model\n",
    "\n",
    "model = SVC(kernel='rbf',C=1,gamma=\"scale\",probability=True,random_state=42)\n",
    "\n",
    "scores = cross_val_score(model,x_train,y_train,cv=5,scoring='accuracy')\n",
    "print(scores)\n",
    "model.fit(x_train,y_train)\n",
    "\n",
    "# Making the model predict\n",
    "\n",
    "y_pred = model.predict(x_test)\n",
    "\n",
    "#evaluating the model\n",
    "\n",
    "acc = accuracy_score(y_test,y_pred)\n",
    "cr = classification_report(y_test,y_pred)\n",
    "cm= confusion_matrix(y_test,y_pred)\n",
    "\n",
    "print(\"Accuracy score is \", acc)\n",
    "print(\"Classification report is\", cr)\n",
    "print(\"confusion matrix is \", cm)\n"
   ]
  },
  {
   "cell_type": "code",
   "execution_count": 7,
   "id": "af8f292a-111d-47b3-8506-115a998b41bf",
   "metadata": {},
   "outputs": [
    {
     "data": {
      "image/png": "[encoded data removed]",
      "text/plain": [
       "<Figure size 1200x600 with 1 Axes>"
      ]
     },
     "metadata": {},
     "output_type": "display_data"
    }
   ],
   "source": [
    "#visualising importing features\n",
    "\n",
    "import matplotlib.pyplot as plt\n",
    "import seaborn as sns\n",
    "\n",
    "plt.figure(figsize=(12,6))\n",
    "sns.barplot(x=df['active_member'],y=df['churn'])\n",
    "plt.title(\"age vs activemember\")\n",
    "plt.show()\n"
   ]
  },
  {
   "cell_type": "code",
   "execution_count": 8,
   "id": "3cb28597-986e-4acf-9b99-e6e6e3c45cf9",
   "metadata": {},
   "outputs": [
    {
     "name": "stdout",
     "output_type": "stream",
     "text": [
      "<class 'pandas.core.frame.DataFrame'>\n",
      "RangeIndex: 702 entries, 0 to 701\n",
      "Data columns (total 8 columns):\n",
      " #   Column            Non-Null Count  Dtype  \n",
      "---  ------            --------------  -----  \n",
      " 0   credit_score      702 non-null    int64  \n",
      " 1   tenure            702 non-null    int64  \n",
      " 2   balance           702 non-null    float64\n",
      " 3   products_number   702 non-null    int64  \n",
      " 4   credit_card       702 non-null    int64  \n",
      " 5   active_member     702 non-null    int64  \n",
      " 6   estimated_salary  702 non-null    float64\n",
      " 7   churn             702 non-null    int64  \n",
      "dtypes: float64(2), int64(6)\n",
      "memory usage: 44.0 KB\n"
     ]
    }
   ],
   "source": [
    "# predicting the model with unseen data\n",
    "data1= pd.read_csv(r\"C:\\Users\\Muruganandan\\OneDrive\\Desktop\\MY PROJECTS\\MACHINE LEARNING\\BANK CUSTOMER CHURN CLASSIFICATION\\unseen.csv\")\n",
    "df1=pd.DataFrame(data1)\n",
    "# cleaning the data\n",
    "df1=df1.drop('customer_id',axis=1)\n",
    "df1=df1.drop('country',axis=1)\n",
    "df1=df1.drop('gender',axis=1)\n",
    "df1=df1.drop('age',axis=1)\n",
    "df1.info()\n"
   ]
  },
  {
   "cell_type": "code",
   "execution_count": 12,
   "id": "e31ca362-c3ac-4f28-8b55-96acb6ad7d7d",
   "metadata": {},
   "outputs": [
    {
     "name": "stdout",
     "output_type": "stream",
     "text": [
      "Accuracy score is  0.8447293447293447\n",
      "Classification report is               precision    recall  f1-score   support\n",
      "\n",
      "           0       0.84      1.00      0.91       577\n",
      "           1       1.00      0.13      0.23       125\n",
      "\n",
      "    accuracy                           0.84       702\n",
      "   macro avg       0.92      0.56      0.57       702\n",
      "weighted avg       0.87      0.84      0.79       702\n",
      "\n",
      "confusion matrix is  [[577   0]\n",
      " [109  16]]\n"
     ]
    }
   ],
   "source": [
    "#SEPERATING FEATURES AND TARGETS\n",
    "\n",
    "x = df1.drop('churn',axis=1)\n",
    "y= df1['churn']\n",
    "\n",
    "# scaling the features\n",
    "\n",
    "scaler = StandardScaler()\n",
    "x = scaler.fit_transform(x)\n",
    "\n",
    "y_new=model.predict(x)\n",
    "\n",
    "acc1 = accuracy_score(y,y_new)\n",
    "cr1 = classification_report(y,y_new)\n",
    "cm1= confusion_matrix(y,y_new)\n",
    "\n",
    "print(\"Accuracy score is \", acc1)\n",
    "print(\"Classification report is\", cr1)\n",
    "print(\"confusion matrix is \", cm1)\n"
   ]
  }
 ],
 "metadata": {
  "kernelspec": {
   "display_name": "Python 3 (ipykernel)",
   "language": "python",
   "name": "python3"
  },
  "language_info": {
   "codemirror_mode": {
    "name": "ipython",
    "version": 3
   },
   "file_extension": ".py",
   "mimetype": "text/x-python",
   "name": "python",
   "nbconvert_exporter": "python",
   "pygments_lexer": "ipython3",
   "version": "3.13.5"
  },
  "widgets": {
   "application/vnd.jupyter.widget-state+json": {
    "state": {},
    "version_major": 2,
    "version_minor": 0
   }
  }
 },
 "nbformat": 4,
 "nbformat_minor": 5
}
